{
 "cells": [
  {
   "cell_type": "code",
   "execution_count": 1,
   "metadata": {
    "colab": {
     "base_uri": "https://localhost:8080/"
    },
    "executionInfo": {
     "elapsed": 6630,
     "status": "ok",
     "timestamp": 1730210502928,
     "user": {
      "displayName": "SAHRUL AMRI",
      "userId": "13832006399495903655"
     },
     "user_tz": -420
    },
    "id": "7VIzPU9ygRBt",
    "outputId": "8e20ce32-63e5-41de-be58-b3c00d5993c5"
   },
   "outputs": [],
   "source": [
    "# import kagglehub\n",
    "\n",
    "# # Download dataset dari Kaggle\n",
    "# path = kagglehub.dataset_download(\"canggih/indonesian-food-recipes\")\n",
    "\n",
    "# print(\"Path to dataset files:\", path)"
   ]
  },
  {
   "cell_type": "code",
   "execution_count": 2,
   "metadata": {
    "colab": {
     "base_uri": "https://localhost:8080/"
    },
    "executionInfo": {
     "elapsed": 420,
     "status": "ok",
     "timestamp": 1730212049518,
     "user": {
      "displayName": "SAHRUL AMRI",
      "userId": "13832006399495903655"
     },
     "user_tz": -420
    },
    "id": "3yPKwIucgo43",
    "outputId": "31a8faa3-1e96-4b87-c751-79889f6851a6"
   },
   "outputs": [
    {
     "name": "stdout",
     "output_type": "stream",
     "text": [
      "                      Title  \\\n",
      "0          Ayam Woku Manado   \n",
      "1  Ayam goreng tulang lunak   \n",
      "2          Ayam cabai kawin   \n",
      "3               Ayam Geprek   \n",
      "4               Minyak Ayam   \n",
      "\n",
      "                                         Ingredients  \\\n",
      "0  1 Ekor Ayam Kampung (potong 12)--2 Buah Jeruk ...   \n",
      "1  1 kg ayam (dipotong sesuai selera jangan kecil...   \n",
      "2  1/4 kg ayam--3 buah cabai hijau besar--7 buah ...   \n",
      "3  250 gr daging ayam (saya pakai fillet)--Secuku...   \n",
      "4  400 gr kulit ayam & lemaknya--8 siung bawang p...   \n",
      "\n",
      "                                               Steps  Loves  \\\n",
      "0  Cuci bersih ayam dan tiriskan. Lalu peras jeru...      1   \n",
      "1  Haluskan bumbu2nya (BaPut, ketumbar, kemiri, k...      1   \n",
      "2  Panaskan minyak di dalam wajan. Setelah minyak...      2   \n",
      "3  Goreng ayam seperti ayam krispi--Ulek semua ba...     10   \n",
      "4  Cuci bersih kulit ayam. Sisihkan--Ambil 50 ml ...      4   \n",
      "\n",
      "                                          URL  \n",
      "0          /id/resep/4473027-ayam-woku-manado  \n",
      "1  /id/resep/4471956-ayam-goreng-tulang-lunak  \n",
      "2          /id/resep/4473057-ayam-cabai-kawin  \n",
      "3               /id/resep/4473023-ayam-geprek  \n",
      "4               /id/resep/4427438-minyak-ayam  \n"
     ]
    }
   ],
   "source": [
    "import pandas as pd\n",
    "import glob\n",
    "from sklearn.feature_extraction.text import TfidfVectorizer\n",
    "from sklearn.metrics.pairwise import cosine_similarity\n",
    "\n",
    "# Tentukan path ke folder yang berisi file CSV\n",
    "path = 'C:/Users/ACER/.cache/kagglehub/datasets/canggih/indonesian-food-recipes/versions/3/*.csv'  # Ganti dengan path yang sesuai\n",
    "\n",
    "# Mengambil semua file CSV\n",
    "all_files = glob.glob(path)\n",
    "\n",
    "# Membaca dan menggabungkan semua file CSV menjadi satu DataFrame\n",
    "df_list = [pd.read_csv(file) for file in all_files]\n",
    "indonesia_food_dataset = pd.concat(df_list, ignore_index=True)\n",
    "\n",
    "# Tampilkan beberapa baris pertama untuk memverifikasi\n",
    "print(indonesia_food_dataset.head())\n"
   ]
  },
  {
   "cell_type": "code",
   "execution_count": 3,
   "metadata": {
    "colab": {
     "base_uri": "https://localhost:8080/"
    },
    "executionInfo": {
     "elapsed": 2955,
     "status": "ok",
     "timestamp": 1730212057485,
     "user": {
      "displayName": "SAHRUL AMRI",
      "userId": "13832006399495903655"
     },
     "user_tz": -420
    },
    "id": "hmba5moUbjl0",
    "outputId": "8ffb2b17-2b09-41cd-c739-224900e123a9"
   },
   "outputs": [],
   "source": [
    "indonesia_food_dataset.to_csv(\"Indonesia_food_dataset.csv\", index=False)\n"
   ]
  },
  {
   "cell_type": "code",
   "execution_count": 4,
   "metadata": {
    "colab": {
     "base_uri": "https://localhost:8080/"
    },
    "executionInfo": {
     "elapsed": 446,
     "status": "ok",
     "timestamp": 1730212059954,
     "user": {
      "displayName": "SAHRUL AMRI",
      "userId": "13832006399495903655"
     },
     "user_tz": -420
    },
    "id": "MfveyWbzhGiC",
    "outputId": "7bcf97e6-78ad-404a-c0ee-8db3b4ad7aae"
   },
   "outputs": [
    {
     "name": "stdout",
     "output_type": "stream",
     "text": [
      "<class 'pandas.core.frame.DataFrame'>\n",
      "RangeIndex: 15641 entries, 0 to 15640\n",
      "Data columns (total 5 columns):\n",
      " #   Column       Non-Null Count  Dtype \n",
      "---  ------       --------------  ----- \n",
      " 0   Title        15641 non-null  object\n",
      " 1   Ingredients  15641 non-null  object\n",
      " 2   Steps        15595 non-null  object\n",
      " 3   Loves        15641 non-null  int64 \n",
      " 4   URL          15641 non-null  object\n",
      "dtypes: int64(1), object(4)\n",
      "memory usage: 611.1+ KB\n",
      "None\n"
     ]
    }
   ],
   "source": [
    "# Mengganti nilai NaN dengan string kosong\n",
    "indonesia_food_dataset['Ingredients'] = indonesia_food_dataset['Ingredients'].fillna('')\n",
    "\n",
    "print(indonesia_food_dataset.info())\n"
   ]
  },
  {
   "cell_type": "code",
   "execution_count": 5,
   "metadata": {
    "executionInfo": {
     "elapsed": 1155,
     "status": "ok",
     "timestamp": 1730212063871,
     "user": {
      "displayName": "SAHRUL AMRI",
      "userId": "13832006399495903655"
     },
     "user_tz": -420
    },
    "id": "A2YRRen-nH_4"
   },
   "outputs": [],
   "source": [
    "# from sklearn.feature_extraction.text import TfidfVectorizer\n",
    "\n",
    "# Buat TF-IDF Vectorizer untuk kolom 'Ingredients'\n",
    "tfidf = TfidfVectorizer()\n",
    "\n",
    "# Fit dan transform kolom 'Ingredients' menjadi matriks TF-IDF\n",
    "tfidf_matrix = tfidf.fit_transform(indonesia_food_dataset['Ingredients'])\n"
   ]
  },
  {
   "cell_type": "code",
   "execution_count": 6,
   "metadata": {
    "executionInfo": {
     "elapsed": 526,
     "status": "ok",
     "timestamp": 1730212067754,
     "user": {
      "displayName": "SAHRUL AMRI",
      "userId": "13832006399495903655"
     },
     "user_tz": -420
    },
    "id": "50w8I9PIwopw"
   },
   "outputs": [],
   "source": [
    "\n",
    "def recommend_by_ingredients(ingredients_input):\n",
    "    # Gabungkan 3 bahan input menjadi satu string\n",
    "    input_str = \" \".join(ingredients_input)\n",
    "\n",
    "    # Transform input bahan menjadi vektor TF-IDF\n",
    "    input_tfidf = tfidf.transform([input_str])\n",
    "\n",
    "    # Hitung cosine similarity antara input dan semua resep dalam dataset\n",
    "    sim_scores = cosine_similarity(input_tfidf, tfidf_matrix).flatten()\n",
    "\n",
    "    # Urutkan resep berdasarkan skor kemiripan\n",
    "    sim_scores = list(enumerate(sim_scores))\n",
    "    sim_scores = sorted(sim_scores, key=lambda x: x[1], reverse=True)\n",
    "\n",
    "    # Ambil indeks resep yang paling mirip (5 teratas)\n",
    "    sim_scores = sim_scores[:3]\n",
    "\n",
    "    # Dapatkan indeks resep\n",
    "    recipe_indices = [i[0] for i in sim_scores if i[1] > 0]  # Hanya ambil yang memiliki skor > 0\n",
    "\n",
    "    if not recipe_indices:  # Jika tidak ada indeks yang ditemukan\n",
    "        return \"Tidak ada resep yang ditemukan berdasarkan bahan yang dimasukkan.\"\n",
    "\n",
    "    # Mengambil kolom yang diinginkan\n",
    "    recommended_recipes = indonesia_food_dataset[['Title', 'Ingredients', 'Steps']].iloc[recipe_indices]\n",
    "\n",
    "    # Format output\n",
    "    output = []\n",
    "    for index, row in recommended_recipes.iterrows():\n",
    "        # Memisahkan langkah berdasarkan '--' dan menghapus elemen kosong\n",
    "        steps = [step.strip() for step in row['Steps'].split('--') if step.strip()]\n",
    "\n",
    "        # Menambahkan nomor langkah\n",
    "        numbered_steps = [f\"{i + 1}. {step}\" for i, step in enumerate(steps)]\n",
    "\n",
    "        steps_formatted = \"\\n\".join(numbered_steps)  # Menggabungkan kembali langkah-langkah yang sudah dinomori\n",
    "\n",
    "        # Menambahkan nomor pada setiap bahan di Ingredients\n",
    "        ingredients_list = [ingredient.strip() for ingredient in row['Ingredients'].split('--') if ingredient.strip()]\n",
    "        numbered_ingredients = [f\"{i + 1}. {ingredient}\" for i, ingredient in enumerate(ingredients_list)]\n",
    "\n",
    "        ingredients_formatted = \"\\n\".join(numbered_ingredients)  # Menggabungkan kembali bahan-bahan yang sudah dinomori\n",
    "\n",
    "        output.append(f\"**{row['Title']}**\\n\\n\"\n",
    "                      f\"**Ingredients:**\\n{ingredients_formatted}\\n\\n\"\n",
    "                      f\"**Steps:**\\n{steps_formatted}\\n\"\n",
    "                      \"-----------------------------------------\\n\")\n",
    "\n",
    "    return \"\\n\".join(output)\n"
   ]
  },
  {
   "cell_type": "code",
   "execution_count": 7,
   "metadata": {
    "colab": {
     "base_uri": "https://localhost:8080/"
    },
    "executionInfo": {
     "elapsed": 483,
     "status": "ok",
     "timestamp": 1730212074873,
     "user": {
      "displayName": "SAHRUL AMRI",
      "userId": "13832006399495903655"
     },
     "user_tz": -420
    },
    "id": "oBS9yTUBws2W",
    "outputId": "09b2b7bd-8de1-448a-9da8-7200de718663"
   },
   "outputs": [
    {
     "name": "stdout",
     "output_type": "stream",
     "text": [
      "**Orak arik tekor (telur kornet)**\n",
      "\n",
      "**Ingredients:**\n",
      "1. 1 sdm kornet sapi\n",
      "2. 1 btr telur ayam\n",
      "3. 2 siung bawang putih\n",
      "4. 1 sdt saus tiram\n",
      "5. 1 sdm saus tomat\n",
      "6. 3 sdm saus pedas\n",
      "7. secukupnya Gula\n",
      "8. secukupnya Garam\n",
      "9. Minyak goreng\n",
      "\n",
      "**Steps:**\n",
      "1. Cincang bawang putih tumis sampai harum. Masukkan kornet aduk\" sampai kecoklatan. Setelah itu masukan telur di orak arik.\n",
      "2. Tambahkan saus\"an gula dan garam. Aduk smpai tercampur. Tes rasa dan siap di hidangkan bersama nasi hangat 😉\n",
      "-----------------------------------------\n",
      "\n",
      "**Kering Tempe Tahu (tempe/tahu sisa)**\n",
      "\n",
      "**Ingredients:**\n",
      "1. Tempe\n",
      "2. Tahu\n",
      "3. Cabe\n",
      "4. Bawang merah\n",
      "5. Bawang putih\n",
      "6. Tomat\n",
      "7. Kecap\n",
      "8. Saus tiram\n",
      "9. Saus tomat\n",
      "\n",
      "**Steps:**\n",
      "1. Potong-potong tempe dan tahu lalu goreng\n",
      "2. Iris cabe, bawang putih (biasanya saya geprek) bawang merah dan tomat lalu tumis dengan sedikit minyak\n",
      "3. Masukkan tempe dan tahu dalam tumisan, tambahkan kecap (ato kalo ada sisa sambel kecap bisa juga dipakai), saus tiram, saus tomat.\n",
      "4. Angkat dan siap dinikmati.\n",
      "-----------------------------------------\n",
      "\n",
      "**Kering Tempe Tahu (tempe/tahu sisa)**\n",
      "\n",
      "**Ingredients:**\n",
      "1. Tempe\n",
      "2. Tahu\n",
      "3. Cabe\n",
      "4. Bawang merah\n",
      "5. Bawang putih\n",
      "6. Tomat\n",
      "7. Kecap\n",
      "8. Saus tiram\n",
      "9. Saus tomat\n",
      "\n",
      "**Steps:**\n",
      "1. Potong-potong tempe dan tahu lalu goreng\n",
      "2. Iris cabe, bawang putih (biasanya saya geprek) bawang merah dan tomat lalu tumis dengan sedikit minyak\n",
      "3. Masukkan tempe dan tahu dalam tumisan, tambahkan kecap (ato kalo ada sisa sambel kecap bisa juga dipakai), saus tiram, saus tomat.\n",
      "4. Angkat dan siap dinikmati.\n",
      "-----------------------------------------\n",
      "\n"
     ]
    }
   ],
   "source": [
    "# Contoh input: bahan \"ayam\", \"bawang putih\", dan \"kecap\"\n",
    "ingredients_input = [\"ayam\", \"bawang\", \"saus\"]\n",
    "recommended_recipes = recommend_by_ingredients(ingredients_input)\n",
    "\n",
    "# Tampilkan hasil rekomendasi\n",
    "print(recommended_recipes)\n"
   ]
  },
  {
   "cell_type": "code",
   "execution_count": 8,
   "metadata": {},
   "outputs": [
    {
     "data": {
      "text/plain": [
       "['resep_model.pkl']"
      ]
     },
     "execution_count": 8,
     "metadata": {},
     "output_type": "execute_result"
    }
   ],
   "source": [
    "import joblib\n",
    "joblib.dump(tfidf,'vectorizer.pkl')\n",
    "joblib.dump(recommended_recipes,'resep_model.pkl')\n"
   ]
  },
  {
   "cell_type": "code",
   "execution_count": null,
   "metadata": {},
   "outputs": [],
   "source": []
  }
 ],
 "metadata": {
  "colab": {
   "authorship_tag": "ABX9TyNnEIiseNK8dnJ3eYFLV69y",
   "mount_file_id": "1IR8OJb982T0jzAPfGrjLT57XUFBQxoSl",
   "provenance": []
  },
  "kernelspec": {
   "display_name": "Python 3",
   "name": "python3"
  },
  "language_info": {
   "codemirror_mode": {
    "name": "ipython",
    "version": 3
   },
   "file_extension": ".py",
   "mimetype": "text/x-python",
   "name": "python",
   "nbconvert_exporter": "python",
   "pygments_lexer": "ipython3",
   "version": "3.12.7"
  }
 },
 "nbformat": 4,
 "nbformat_minor": 0
}
